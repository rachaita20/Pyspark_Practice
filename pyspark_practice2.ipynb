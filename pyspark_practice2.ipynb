{
 "cells": [
  {
   "cell_type": "markdown",
   "metadata": {},
   "source": [
    "PRACTICE - 2\n",
    "1. PySpark handling missing values\n",
    "2. Dropping columns \n",
    "3. Dropping rows\n",
    "4. Various parameter in dropping functionalities "
   ]
  },
  {
   "cell_type": "code",
   "execution_count": 4,
   "metadata": {},
   "outputs": [],
   "source": [
    "from pyspark.sql import SparkSession\n",
    "import warnings\n",
    "warnings.filterwarnings('ignore')"
   ]
  },
  {
   "cell_type": "code",
   "execution_count": 5,
   "metadata": {},
   "outputs": [],
   "source": [
    "spark = SparkSession.builder.appName(\"Practice\").getOrCreate()"
   ]
  },
  {
   "cell_type": "code",
   "execution_count": 6,
   "metadata": {},
   "outputs": [
    {
     "name": "stderr",
     "output_type": "stream",
     "text": [
      "                                                                                \r"
     ]
    }
   ],
   "source": [
    "df_pyspark = spark.read.option('header','true').csv(\"/Users/rachaita/Desktop/Python_Practice/CSV/test2.csv\",inferSchema = True)"
   ]
  },
  {
   "cell_type": "code",
   "execution_count": 7,
   "metadata": {},
   "outputs": [
    {
     "name": "stdout",
     "output_type": "stream",
     "text": [
      "+--------+----+----------+------+\n",
      "|    Name| age|Experience|Salary|\n",
      "+--------+----+----------+------+\n",
      "|Rachaita|  31|        10| 30000|\n",
      "|   Minal|  30|         8| 25000|\n",
      "|    Mona|  29|         4| 20000|\n",
      "|   Anshu|  24|         3| 20000|\n",
      "|  Harsha|  21|         1| 15000|\n",
      "|    Sana|  23|         2| 18000|\n",
      "| Monisha|NULL|      NULL| 40000|\n",
      "|    NULL|  34|        10| 38000|\n",
      "|    NULL|  36|      NULL|  NULL|\n",
      "+--------+----+----------+------+\n",
      "\n"
     ]
    }
   ],
   "source": [
    "df_pyspark.show()"
   ]
  },
  {
   "cell_type": "code",
   "execution_count": 8,
   "metadata": {},
   "outputs": [
    {
     "data": {
      "text/plain": [
       "DataFrame[Name: string, age: int, Experience: int, Salary: int]"
      ]
     },
     "execution_count": 8,
     "metadata": {},
     "output_type": "execute_result"
    }
   ],
   "source": [
    "## All the rows where null value is there will bw deleted\n",
    "df_pyspark.na.drop()"
   ]
  },
  {
   "cell_type": "code",
   "execution_count": 9,
   "metadata": {},
   "outputs": [
    {
     "name": "stdout",
     "output_type": "stream",
     "text": [
      "+--------+---+----------+------+\n",
      "|    Name|age|Experience|Salary|\n",
      "+--------+---+----------+------+\n",
      "|Rachaita| 31|        10| 30000|\n",
      "|   Minal| 30|         8| 25000|\n",
      "|    Mona| 29|         4| 20000|\n",
      "|   Anshu| 24|         3| 20000|\n",
      "|  Harsha| 21|         1| 15000|\n",
      "|    Sana| 23|         2| 18000|\n",
      "+--------+---+----------+------+\n",
      "\n"
     ]
    }
   ],
   "source": [
    "df_pyspark.na.drop().show()"
   ]
  },
  {
   "cell_type": "code",
   "execution_count": 11,
   "metadata": {},
   "outputs": [
    {
     "data": {
      "text/plain": [
       "DataFrame[Name: string, age: int, Experience: int, Salary: int]"
      ]
     },
     "execution_count": 11,
     "metadata": {},
     "output_type": "execute_result"
    }
   ],
   "source": [
    "## \"how = any\" will drop rows if there is any null value\n",
    "df_pyspark.na.drop(how=\"any\")"
   ]
  },
  {
   "cell_type": "code",
   "execution_count": 12,
   "metadata": {},
   "outputs": [
    {
     "name": "stdout",
     "output_type": "stream",
     "text": [
      "+--------+---+----------+------+\n",
      "|    Name|age|Experience|Salary|\n",
      "+--------+---+----------+------+\n",
      "|Rachaita| 31|        10| 30000|\n",
      "|   Minal| 30|         8| 25000|\n",
      "|    Mona| 29|         4| 20000|\n",
      "|   Anshu| 24|         3| 20000|\n",
      "|  Harsha| 21|         1| 15000|\n",
      "|    Sana| 23|         2| 18000|\n",
      "+--------+---+----------+------+\n",
      "\n"
     ]
    }
   ],
   "source": [
    "df_pyspark.na.drop(how=\"any\").show()"
   ]
  },
  {
   "cell_type": "code",
   "execution_count": 13,
   "metadata": {},
   "outputs": [
    {
     "data": {
      "text/plain": [
       "DataFrame[Name: string, age: int, Experience: int, Salary: int]"
      ]
     },
     "execution_count": 13,
     "metadata": {},
     "output_type": "execute_result"
    }
   ],
   "source": [
    "## \"how = all\" will drop the rows where all the values are null\n",
    "df_pyspark.na.drop(how=\"all\")"
   ]
  },
  {
   "cell_type": "code",
   "execution_count": 14,
   "metadata": {},
   "outputs": [
    {
     "name": "stdout",
     "output_type": "stream",
     "text": [
      "+--------+----+----------+------+\n",
      "|    Name| age|Experience|Salary|\n",
      "+--------+----+----------+------+\n",
      "|Rachaita|  31|        10| 30000|\n",
      "|   Minal|  30|         8| 25000|\n",
      "|    Mona|  29|         4| 20000|\n",
      "|   Anshu|  24|         3| 20000|\n",
      "|  Harsha|  21|         1| 15000|\n",
      "|    Sana|  23|         2| 18000|\n",
      "| Monisha|NULL|      NULL| 40000|\n",
      "|    NULL|  34|        10| 38000|\n",
      "|    NULL|  36|      NULL|  NULL|\n",
      "+--------+----+----------+------+\n",
      "\n"
     ]
    }
   ],
   "source": [
    "df_pyspark.na.drop(how=\"all\").show()"
   ]
  },
  {
   "cell_type": "code",
   "execution_count": 15,
   "metadata": {},
   "outputs": [
    {
     "name": "stdout",
     "output_type": "stream",
     "text": [
      "+--------+----+----------+------+\n",
      "|    Name| age|Experience|Salary|\n",
      "+--------+----+----------+------+\n",
      "|Rachaita|  31|        10| 30000|\n",
      "|   Minal|  30|         8| 25000|\n",
      "|    Mona|  29|         4| 20000|\n",
      "|   Anshu|  24|         3| 20000|\n",
      "|  Harsha|  21|         1| 15000|\n",
      "|    Sana|  23|         2| 18000|\n",
      "| Monisha|NULL|      NULL| 40000|\n",
      "|    NULL|  34|        10| 38000|\n",
      "+--------+----+----------+------+\n",
      "\n"
     ]
    }
   ],
   "source": [
    "## Rows will be dropped if atleast thresh = 2 non null values are not present\n",
    "df_pyspark.na.drop(how=\"any\", thresh=2).show()"
   ]
  },
  {
   "cell_type": "code",
   "execution_count": 16,
   "metadata": {},
   "outputs": [
    {
     "name": "stdout",
     "output_type": "stream",
     "text": [
      "+--------+---+----------+------+\n",
      "|    Name|age|Experience|Salary|\n",
      "+--------+---+----------+------+\n",
      "|Rachaita| 31|        10| 30000|\n",
      "|   Minal| 30|         8| 25000|\n",
      "|    Mona| 29|         4| 20000|\n",
      "|   Anshu| 24|         3| 20000|\n",
      "|  Harsha| 21|         1| 15000|\n",
      "|    Sana| 23|         2| 18000|\n",
      "|    NULL| 34|        10| 38000|\n",
      "|    NULL| 36|      NULL|  NULL|\n",
      "+--------+---+----------+------+\n",
      "\n"
     ]
    }
   ],
   "source": [
    "## This will remove null values from a specific column\n",
    "df_pyspark.na.drop(how=\"any\", subset=['Age']).show()"
   ]
  },
  {
   "cell_type": "code",
   "execution_count": 27,
   "metadata": {},
   "outputs": [
    {
     "name": "stdout",
     "output_type": "stream",
     "text": [
      "+--------------+----+----------+------+\n",
      "|          Name| age|Experience|Salary|\n",
      "+--------------+----+----------+------+\n",
      "|      Rachaita|  31|        10| 30000|\n",
      "|         Minal|  30|         8| 25000|\n",
      "|          Mona|  29|         4| 20000|\n",
      "|         Anshu|  24|         3| 20000|\n",
      "|        Harsha|  21|         1| 15000|\n",
      "|          Sana|  23|         2| 18000|\n",
      "|       Monisha|NULL|      NULL| 40000|\n",
      "|Missing Values|  34|        10| 38000|\n",
      "|Missing Values|  36|      NULL|  NULL|\n",
      "+--------------+----+----------+------+\n",
      "\n"
     ]
    }
   ],
   "source": [
    "## Replace null with a string. NOTE: It will only replace those columns whose data type is string\n",
    "df_pyspark.na.fill(\"Missing Values\").show()"
   ]
  },
  {
   "cell_type": "code",
   "execution_count": 28,
   "metadata": {},
   "outputs": [
    {
     "name": "stdout",
     "output_type": "stream",
     "text": [
      "+--------+---+----------+------+\n",
      "|    Name|age|Experience|Salary|\n",
      "+--------+---+----------+------+\n",
      "|Rachaita| 31|        10| 30000|\n",
      "|   Minal| 30|         8| 25000|\n",
      "|    Mona| 29|         4| 20000|\n",
      "|   Anshu| 24|         3| 20000|\n",
      "|  Harsha| 21|         1| 15000|\n",
      "|    Sana| 23|         2| 18000|\n",
      "| Monisha|  0|         0| 40000|\n",
      "|    NULL| 34|        10| 38000|\n",
      "|    NULL| 36|         0|     0|\n",
      "+--------+---+----------+------+\n",
      "\n"
     ]
    }
   ],
   "source": [
    "df_pyspark.na.fill(0).show()"
   ]
  },
  {
   "cell_type": "code",
   "execution_count": 29,
   "metadata": {},
   "outputs": [],
   "source": [
    "## Replace missing values with mean with the help of an imputer\n",
    "from pyspark.ml.feature import Imputer"
   ]
  },
  {
   "cell_type": "code",
   "execution_count": 32,
   "metadata": {},
   "outputs": [],
   "source": [
    "imputer = Imputer(inputCols=['age','Experience','Salary'], outputCols=[\"{}_imputed\".format(c) for c in ['age','Experience','Salary']]).setStrategy(\"mean\")"
   ]
  },
  {
   "cell_type": "code",
   "execution_count": 33,
   "metadata": {},
   "outputs": [
    {
     "name": "stdout",
     "output_type": "stream",
     "text": [
      "+--------+----+----------+------+-----------+------------------+--------------+\n",
      "|    Name| age|Experience|Salary|age_imputed|Experience_imputed|Salary_imputed|\n",
      "+--------+----+----------+------+-----------+------------------+--------------+\n",
      "|Rachaita|  31|        10| 30000|         31|                10|         30000|\n",
      "|   Minal|  30|         8| 25000|         30|                 8|         25000|\n",
      "|    Mona|  29|         4| 20000|         29|                 4|         20000|\n",
      "|   Anshu|  24|         3| 20000|         24|                 3|         20000|\n",
      "|  Harsha|  21|         1| 15000|         21|                 1|         15000|\n",
      "|    Sana|  23|         2| 18000|         23|                 2|         18000|\n",
      "| Monisha|NULL|      NULL| 40000|         28|                 5|         40000|\n",
      "|    NULL|  34|        10| 38000|         34|                10|         38000|\n",
      "|    NULL|  36|      NULL|  NULL|         36|                 5|         25750|\n",
      "+--------+----+----------+------+-----------+------------------+--------------+\n",
      "\n"
     ]
    }
   ],
   "source": [
    "imputer.fit(df_pyspark).transform(df_pyspark).show()"
   ]
  },
  {
   "cell_type": "code",
   "execution_count": null,
   "metadata": {},
   "outputs": [],
   "source": []
  }
 ],
 "metadata": {
  "kernelspec": {
   "display_name": "practice",
   "language": "python",
   "name": "python3"
  },
  "language_info": {
   "codemirror_mode": {
    "name": "ipython",
    "version": 3
   },
   "file_extension": ".py",
   "mimetype": "text/x-python",
   "name": "python",
   "nbconvert_exporter": "python",
   "pygments_lexer": "ipython3",
   "version": "3.12.3"
  }
 },
 "nbformat": 4,
 "nbformat_minor": 2
}
